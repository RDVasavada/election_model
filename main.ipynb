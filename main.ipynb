{
 "cells": [
  {
   "cell_type": "markdown",
   "metadata": {
    "collapsed": false
   },
   "source": [
    "## Importing modules"
   ]
  },
  {
   "cell_type": "code",
   "execution_count": 287,
   "metadata": {
    "collapsed": false
   },
   "outputs": [],
   "source": [
    "import matplotlib.pyplot as plt\n",
    "import numpy as np\n",
    "import pandas as pd\n",
    "import statistics\n",
    "import math\n",
    "from sklearn.linear_model import LinearRegression, LogisticRegression"
   ]
  },
  {
   "cell_type": "code",
   "execution_count": 220,
   "metadata": {
    "collapsed": false
   },
   "outputs": [],
   "source": [
    "#polling = pd.read_csv('polling.csv')\n",
    "#polling = polling.loc[polling['mode'] != 'Online'] # get rid of online polls because they are trash"
   ]
  },
  {
   "cell_type": "markdown",
   "metadata": {
    "collapsed": false
   },
   "source": [
    "## Turnout"
   ]
  },
  {
   "cell_type": "code",
   "execution_count": 221,
   "metadata": {
    "collapsed": false
   },
   "outputs": [
    {
     "name": "stdout",
     "output_type": "stream",
     "text": [
      "                   State Turnout Rates\n",
      "1          United States         60.1%\n",
      "2                Alabama         59.1%\n",
      "3                 Alaska         61.5%\n",
      "4                Arizona         56.1%\n",
      "5               Arkansas         53.2%\n",
      "6             California         58.2%\n",
      "7               Colorado         71.9%\n",
      "8            Connecticut         64.9%\n",
      "9               Delaware         64.4%\n",
      "10  District of Columbia         60.7%\n",
      "11               Florida         65.6%\n",
      "12               Georgia         59.8%\n",
      "13                Hawaii         43.2%\n",
      "14                 Idaho         60.9%\n",
      "15              Illinois         63.1%\n",
      "16               Indiana         57.9%\n",
      "17                  Iowa         69.1%\n",
      "18                Kansas         59.7%\n",
      "19              Kentucky         59.6%\n",
      "20             Louisiana         60.6%\n",
      "21                 Maine         72.9%\n",
      "22              Maryland         67.0%\n",
      "23         Massachusetts         68.3%\n",
      "24              Michigan         65.7%\n",
      "25             Minnesota         74.7%\n",
      "26           Mississippi           NaN\n",
      "27              Missouri         62.2%\n",
      "28               Montana         64.3%\n",
      "29              Nebraska         64.0%\n",
      "30                Nevada         57.4%\n",
      "31         New Hampshire         72.5%\n",
      "32            New Jersey         65.8%\n",
      "33            New Mexico         54.9%\n",
      "34              New York         57.2%\n",
      "35        North Carolina         64.9%\n",
      "36          North Dakota         61.7%\n",
      "37                  Ohio         64.2%\n",
      "38              Oklahoma           NaN\n",
      "39                Oregon         68.0%\n",
      "40          Pennsylvania           NaN\n",
      "41          Rhode Island         59.7%\n",
      "42        South Carolina         57.3%\n",
      "43          South Dakota         60.0%\n",
      "44             Tennessee         51.8%\n",
      "45                 Texas         51.4%\n",
      "46                  Utah         57.9%\n",
      "47               Vermont         64.8%\n",
      "48              Virginia           NaN\n",
      "49            Washington         65.7%\n",
      "50         West Virginia           NaN\n",
      "51             Wisconsin           NaN\n",
      "52               Wyoming         60.2%\n"
     ]
    }
   ],
   "source": [
    "turnout_2016 = pd.read_csv(\"2016 turnout.csv\") # reads data file into data frame\n",
    "# drops all columns except columns with state name and column with voter turnout\n",
    "turnout_2016_dropcol = turnout_2016.drop(turnout_2016.columns[[1,2,4,5,6,7,8,9,10,11,12,13,14,15,16]],axis=1) \n",
    "turnout_2016_final = turnout_2016_dropcol.drop([0,53],axis=0) #drops first and last rows, which have irrelevant information\n",
    "print(turnout_2016_final)"
   ]
  },
  {
   "cell_type": "code",
   "execution_count": 222,
   "metadata": {
    "collapsed": false
   },
   "outputs": [
    {
     "name": "stdout",
     "output_type": "stream",
     "text": [
      "        0\n",
      "0    2016\n",
      "1    2016\n",
      "2    2016\n",
      "3    2016\n",
      "4    2016\n",
      "..    ...\n",
      "255  2000\n",
      "256  2000\n",
      "257  2000\n",
      "258  2000\n",
      "259  2000\n",
      "\n",
      "[260 rows x 1 columns]\n"
     ]
    }
   ],
   "source": [
    "yearlist = [] # instantiates an empty list\n",
    "for i in range(1,53,1):\n",
    "    yearlist.append(2016) # fills the list with \"2016\", 52 times\n",
    "for j in range(53,105,1):\n",
    "    yearlist.append(2012) # adds to list with \"2012\", 52 times\n",
    "for k in range(105,157,1):\n",
    "    yearlist.append(2008)\n",
    "for l in range(157,209,1):\n",
    "    yearlist.append(2004)\n",
    "for m in range(209,261,1):\n",
    "    yearlist.append(2000)\n",
    "yeardf = pd.DataFrame(yearlist) # stores the years into a data frame\n",
    "\n",
    "print(yeardf)"
   ]
  },
  {
   "cell_type": "code",
   "execution_count": 223,
   "metadata": {
    "collapsed": false,
    "scrolled": true
   },
   "outputs": [
    {
     "name": "stdout",
     "output_type": "stream",
     "text": [
      "             State Turnout Rates\n",
      "53   United States         58.6%\n",
      "54         Alabama           NaN\n",
      "55          Alaska         58.9%\n",
      "56         Arizona         53.0%\n",
      "57        Arkansas         51.1%\n",
      "..             ...           ...\n",
      "412       Virginia         55.0%\n",
      "413     Washington         61.4%\n",
      "414  West Virginia           NaN\n",
      "415      Wisconsin           NaN\n",
      "416        Wyoming         61.4%\n",
      "\n",
      "[208 rows x 2 columns]\n"
     ]
    }
   ],
   "source": [
    "turnout_1980to2014 = pd.read_csv(\"1980-2014 turnout.csv\") # reads data file into data frame\n",
    "numRows = len(turnout_1980to2014) # gets the number of rows in the data set\n",
    "list_droprows = [0] # instantiates list with one entry of value 0\n",
    "\n",
    "# adds the rows index of all years to be dropped (years before 2000 and non-election years) to list droprows\n",
    "for i in range (1,numRows,1):\n",
    "    if (int(turnout_1980to2014.iloc[i,0])%4==2\n",
    "         or int(turnout_1980to2014.iloc[i,0]) == 1996\n",
    "         or int(turnout_1980to2014.iloc[i,0]) == 1992\n",
    "         or int(turnout_1980to2014.iloc[i,0]) == 1988\n",
    "         or int(turnout_1980to2014.iloc[i,0]) == 1984\n",
    "         or int(turnout_1980to2014.iloc[i,0]) == 1980):\n",
    "        list_droprows.append(i)\n",
    "turnout_2000to2012 = turnout_1980to2014.drop(list_droprows,axis=0) #drops rows\n",
    "turnout_2000to2012_final = turnout_2000to2012.drop(turnout_2000to2012.columns[[0,1,2,5,6,7,8,9,10,11,12,13,14,15,16]],axis=1) #drops irrelevant columns\n",
    "print(turnout_2000to2012_final)"
   ]
  },
  {
   "cell_type": "code",
   "execution_count": 229,
   "metadata": {
    "collapsed": false
   },
   "outputs": [
    {
     "name": "stdout",
     "output_type": "stream",
     "text": [
      "                 0      0\n",
      "0    United States  60.1%\n",
      "1          Alabama  59.1%\n",
      "2           Alaska  61.5%\n",
      "3          Arizona  56.1%\n",
      "4         Arkansas  53.2%\n",
      "..             ...    ...\n",
      "255       Virginia  55.0%\n",
      "256     Washington  61.4%\n",
      "257  West Virginia    NaN\n",
      "258      Wisconsin    NaN\n",
      "259        Wyoming  61.4%\n",
      "\n",
      "[260 rows x 2 columns]\n"
     ]
    }
   ],
   "source": [
    "frames = [turnout_2016_final, turnout_2000to2012_final] # stores data frames for 2016 and 2000-2012 in a list\n",
    "turnout_totaldata = pd.concat(frames) # converts list of data frames into one data frame\n",
    "turnout_list=[] # instantiates empty lists, meant to change indexing of data frame\n",
    "state_list = []\n",
    "for i in range(0,260,1):\n",
    "    turnout_list.append(turnout_totaldata.iloc[i,1]) # adds turnout data from data frame to list\n",
    "    state_list.append(turnout_totaldata.iloc[i,0]) # adds states from data frrame to list\n",
    "voter_turnout_final = pd.DataFrame(turnout_list) # creates a new turnout data frame with proper indexing\n",
    "state_df = pd.DataFrame(state_list) # creates a new state data frame with proper indexing\n",
    "\n",
    "# combines states and voter turnout into one data frame\n",
    "states_and_turnout = pd.concat([state_df, voter_turnout_final],axis=1) \n",
    "   \n",
    "print(states_and_turnout)"
   ]
  },
  {
   "cell_type": "markdown",
   "metadata": {
    "collapsed": false
   },
   "source": [
    "## Income"
   ]
  },
  {
   "cell_type": "code",
   "execution_count": 232,
   "metadata": {
    "collapsed": false
   },
   "outputs": [
    {
     "name": "stdout",
     "output_type": "stream",
     "text": [
      "          0\n",
      "0    59,039\n",
      "1    47,221\n",
      "2    75,723\n",
      "3    57,100\n",
      "4    45,907\n",
      "..      ...\n",
      "255  47,163\n",
      "256  42,525\n",
      "257  29,411\n",
      "258  45,088\n",
      "259  39,629\n",
      "\n",
      "[260 rows x 1 columns]\n"
     ]
    }
   ],
   "source": [
    "household_income = pd.read_csv(\"household income data.csv\") # reads data file into data frame\n",
    "incomeRowDrop = [0,1,2,3,4] # instantiates list of rows to be dropped\n",
    "for i in range (57,115,1):\n",
    "    incomeRowDrop.append(i) # adds rows to be dropped to incomeRowDrop\n",
    "household_income_rowdrop = household_income.drop(incomeRowDrop,axis=0) #drops the necessary rows\n",
    "\n",
    "# extracts necessary columns to gather columns for income in 2016, 2012, 2008, 2004, and 2000\n",
    "household_income2016 = household_income_rowdrop.iloc[:,7]\n",
    "household_income2012 = household_income_rowdrop.iloc[:,17]\n",
    "household_income2008 = household_income_rowdrop.iloc[:,25]\n",
    "household_income2004 = household_income_rowdrop.iloc[:,33]\n",
    "household_income2000 = household_income_rowdrop.iloc[:,41]\n",
    "\n",
    "# combines columns with relevant data\n",
    "frames2 = [household_income2016,household_income2012,household_income2008,household_income2004,household_income2000]\n",
    "income_totaldata = pd.DataFrame(data=pd.concat(frames2)) #creates data frame with income by state by year\n",
    "\n",
    "inclist = [] # instantiates list to store median household incomes, to fix indexing\n",
    "for i in range(0,260,1):\n",
    "    inclist.append(income_df1.iloc[i,0]) # stores median household incomes into list\n",
    "income_final = pd.DataFrame(inclist) # converts list into data frame\n",
    "\n",
    "print(income_final)"
   ]
  },
  {
   "cell_type": "markdown",
   "metadata": {
    "collapsed": false
   },
   "source": [
    "## Unemployment"
   ]
  },
  {
   "cell_type": "code",
   "execution_count": 242,
   "metadata": {
    "collapsed": false
   },
   "outputs": [
    {
     "name": "stdout",
     "output_type": "stream",
     "text": [
      "       0\n",
      "0    4.9\n",
      "1    5.8\n",
      "2    6.9\n",
      "3    5.4\n",
      "4    4.0\n",
      "..   ...\n",
      "255  2.3\n",
      "256  5.2\n",
      "257  5.5\n",
      "258  3.5\n",
      "259  3.9\n",
      "\n",
      "[260 rows x 1 columns]\n"
     ]
    }
   ],
   "source": [
    "raw_unemployment = pd.read_csv('unemployment.csv') # reads data file into data frame\n",
    "filtered_unemployment = raw_unemployment.filter(items=['State', '2000', '2004', '2008', '2012', '2016']) # get rid of unnecessary columns\n",
    "\n",
    "# extracts necessary columns to get data for election years\n",
    "unemployment_2016 = filtered_unemployment.iloc[:,5]\n",
    "unemployment_2012 = filtered_unemployment.iloc[:,4]\n",
    "unemployment_2008 = filtered_unemployment.iloc[:,3]\n",
    "unemployment_2004 = filtered_unemployment.iloc[:,2]\n",
    "unemployment_2000 = filtered_unemployment.iloc[:,1]\n",
    "\n",
    "# creates a list of data frames, with the necessary columns from the original unemployment data frame\n",
    "frames = [unemployment_2016, unemployment_2012, unemployment_2008, unemployment_2004, unemployment_2000]\n",
    "\n",
    "\n",
    "unemployment_df1 = pd.DataFrame(data=pd.concat(frames)) #converts list into a data frame\n",
    "\n",
    "unemployment_list=[] #creates a list to store unemployment data, fixing indexing\n",
    "for i in range(0,260,1):\n",
    "    unemployment_list.append(unemployment_df1.iloc[i,0]) \n",
    "unemployment_df2 = pd.DataFrame(unemployment_list) #converts list into a data frame\n",
    "print(unemployment_df2)"
   ]
  },
  {
   "cell_type": "markdown",
   "metadata": {
    "collapsed": false
   },
   "source": [
    "## Incumbency"
   ]
  },
  {
   "cell_type": "code",
   "execution_count": 234,
   "metadata": {
    "collapsed": false
   },
   "outputs": [
    {
     "name": "stdout",
     "output_type": "stream",
     "text": [
      "     0\n",
      "0    0\n",
      "1    0\n",
      "2    0\n",
      "3    0\n",
      "4    0\n",
      "..  ..\n",
      "255  0\n",
      "256  0\n",
      "257  0\n",
      "258  0\n",
      "259  0\n",
      "\n",
      "[260 rows x 1 columns]\n"
     ]
    }
   ],
   "source": [
    "incumbency_df = pd.read_csv('incumbency.csv', header=None) # 1 = incumbent, 0 = not incumbent\n",
    "print(incumbency_df)"
   ]
  },
  {
   "cell_type": "markdown",
   "metadata": {
    "collapsed": false
   },
   "source": [
    "## Combining Factors\n"
   ]
  },
  {
   "cell_type": "markdown",
   "metadata": {
    "collapsed": false
   },
   "source": [
    "## Regression Output\n"
   ]
  },
  {
   "cell_type": "code",
   "execution_count": 235,
   "metadata": {
    "collapsed": false
   },
   "outputs": [
    {
     "name": "stdout",
     "output_type": "stream",
     "text": [
      "     Unnamed: 3\n",
      "0             0\n",
      "1             1\n",
      "2             1\n",
      "3             1\n",
      "4             1\n",
      "..          ...\n",
      "255           1\n",
      "256           0\n",
      "257           1\n",
      "258           0\n",
      "259           1\n",
      "\n",
      "[260 rows x 1 columns]\n"
     ]
    }
   ],
   "source": [
    "results_df = pd.read_csv('election results.csv') # 1 = Republican, 0 = Democrat\n",
    "results_dropcol = results_df.drop(results_df.columns[[0,1,2]],axis=1) \n",
    "print(results_dropcol)"
   ]
  },
  {
   "cell_type": "code",
   "execution_count": 243,
   "metadata": {
    "collapsed": false
   },
   "outputs": [
    {
     "name": "stdout",
     "output_type": "stream",
     "text": [
      "     Year       State  Voter Turnout  Unemployment Rate  \\\n",
      "1    2016     Alabama          0.591                5.8   \n",
      "2    2016      Alaska          0.615                6.9   \n",
      "3    2016     Arizona          0.561                5.4   \n",
      "4    2016    Arkansas          0.532                4.0   \n",
      "5    2016  California          0.582                5.5   \n",
      "..    ...         ...            ...                ...   \n",
      "253  2000        Utah          0.548                3.3   \n",
      "254  2000     Vermont          0.647                2.8   \n",
      "255  2000    Virginia          0.550                2.3   \n",
      "256  2000  Washington          0.614                5.2   \n",
      "259  2000     Wyoming          0.614                3.9   \n",
      "\n",
      "    Median Household Income  Incumbent  Results  \n",
      "1                     47221          0        1  \n",
      "2                     75723          0        1  \n",
      "3                     57100          0        1  \n",
      "4                     45907          0        1  \n",
      "5                     66637          0        0  \n",
      "..                      ...        ...      ...  \n",
      "253                   47550          0        1  \n",
      "254                   39594          0        0  \n",
      "255                   47163          0        1  \n",
      "256                   42525          0        0  \n",
      "259                   39629          0        1  \n",
      "\n",
      "[223 rows x 7 columns]\n"
     ]
    }
   ],
   "source": [
    "# combines all data into one large data frame\n",
    "grand_df = pd.concat([yeardf, states_and_turnout,  unemployment_df2, income_final, incumbency_df, results_dropcol],axis=1)\n",
    "# changes name of columns\n",
    "grand_df.columns = ['Year','State','Voter Turnout','Unemployment Rate', 'Median Household Income', 'Incumbent', 'Results']\n",
    "# alters voter turnouts to be as a decimal, and as a float rather than a string\n",
    "grand_df['Voter Turnout'] = grand_df['Voter Turnout'].str.rstrip('%').astype('float') / 100.0\n",
    "# alters incomes to make them non-strings, removes the commas\n",
    "grand_df['Median Household Income'] = grand_df['Median Household Income'].apply(lambda entry : entry.translate({ord(','): None}))\n",
    "\n",
    "final_data = grand_df.drop([0])\n",
    "final_data = final_data.dropna()\n",
    "\n",
    "print(final_data)"
   ]
  },
  {
   "cell_type": "code",
   "execution_count": 293,
   "metadata": {
    "collapsed": false
   },
   "outputs": [
    {
     "name": "stdout",
     "output_type": "stream",
     "text": [
      "Coefficients: \n",
      " [-1.76474727e+00 -5.20954208e-02 -1.74533091e-05 -1.25906366e-02]\n",
      "Constant: \n",
      " 2.764274681877186\n"
     ]
    }
   ],
   "source": [
    "# Assemble independent variables\n",
    "X = final_data[['Voter Turnout', 'Unemployment Rate', 'Median Household Income', 'Incumbent']]\n",
    "\n",
    "# Dependent variable\n",
    "Y = final_data['Results']\n",
    "\n",
    "# Run the regression\n",
    "regression = LinearRegression()\n",
    "regression.fit(X, Y)\n",
    "\n",
    "print('Coefficients: \\n', regression.coef_)\n",
    "print('Constant: \\n', regression.intercept_)"
   ]
  },
  {
   "cell_type": "markdown",
   "metadata": {
    "collapsed": false
   },
   "source": [
    "## 2020 Data"
   ]
  },
  {
   "cell_type": "code",
   "execution_count": 316,
   "metadata": {
    "collapsed": false
   },
   "outputs": [
    {
     "name": "stdout",
     "output_type": "stream",
     "text": [
      "----------High Turnout Model----------\n",
      "Trump has a -9.192070522619566% chance of winning re-election\n",
      "--------------------------------------\n",
      "\n",
      "\n",
      "----------Medium Turnout Model----------\n",
      "Trump has a -2.838980365147048% chance of winning re-election\n",
      "----------------------------------------\n",
      "\n",
      "\n",
      "----------Low Turnout Model----------\n",
      "Trump has a 2.9846856125359977% chance of winning re-election\n",
      "-------------------------------------\n"
     ]
    }
   ],
   "source": [
    "# Gather and format the 2020 data\n",
    "unemployment_income_2020 = pd.read_csv('2020 unemployment income.csv')\n",
    "unemployment_income_2020 = unemployment_income_2020.drop(columns=['Unnamed: 0', 'Unnamed: 1'])\n",
    "\n",
    "unemployment_income_2020['unemployment'] = unemployment_income_2020['unemployment'] * 100 # convert to percentage\n",
    "\n",
    "incumbent_2020 = pd.DataFrame(np.zeros((52, 1)))\n",
    "incumbent_2020.columns = ['incumbency']\n",
    "incumbent_2020['incumbency'] = 1\n",
    "\n",
    "# Since we do not have turnout data for 2020 as the election has not yet occurred,\n",
    "# we constructed three different turnout models based on past election cycles\n",
    "high_data = grand_df[grand_df['Year'].eq(2008)].reset_index()\n",
    "neutral_data = grand_df[grand_df['Year'].eq(2012)].reset_index()\n",
    "low_data = grand_df[grand_df['Year'].eq(2000)].reset_index()\n",
    "\n",
    "high_turnout_scenario = pd.concat([high_data['State'], high_data['Voter Turnout'], unemployment_income_2020, incumbent_2020], axis=1).dropna()\n",
    "neutral_turnout_scenario = pd.concat([high_data['State'], neutral_data['Voter Turnout'], unemployment_income_2020, incumbent_2020], axis=1).dropna()\n",
    "low_turnout_scenario = pd.concat([high_data['State'], low_data['Voter Turnout'], unemployment_income_2020, incumbent_2020], axis=1).dropna()\n",
    "\n",
    "high_us_data = high_turnout_scenario[high_turnout_scenario['State'].eq('United States')].drop(['State'], axis=1)\n",
    "neutral_us_data = neutral_turnout_scenario[neutral_turnout_scenario['State'].eq('United States')].drop(['State'], axis=1)\n",
    "low_us_data = low_turnout_scenario[low_turnout_scenario['State'].eq('United States')].drop(['State'], axis=1)\n",
    "\n",
    "# Apply the regression model to our turnout scenarios\n",
    "high_result = regression.predict(high_us_data)\n",
    "neutral_result = regression.predict(neutral_us_data)\n",
    "low_result = regression.predict(low_us_data)\n",
    "\n",
    "print(\"----------High Turnout Model----------\")\n",
    "print(\"Trump has a {pct}% chance of winning re-election\".format(pct = high_result[0] * 100))\n",
    "print(\"--------------------------------------\\n\\n\")\n",
    "print(\"----------Medium Turnout Model----------\")\n",
    "print(\"Trump has a {pct}% chance of winning re-election\".format(pct = neutral_result[0] * 100))\n",
    "print(\"----------------------------------------\\n\\n\")\n",
    "print(\"----------Low Turnout Model----------\")\n",
    "print(\"Trump has a {pct}% chance of winning re-election\".format(pct = low_result[0] * 100))\n",
    "print(\"-------------------------------------\")"
   ]
  },
  {
   "cell_type": "code",
   "execution_count": 310,
   "metadata": {
    "collapsed": false
   },
   "outputs": [
    {
     "name": "stdout",
     "output_type": "stream",
     "text": [
      "                       0         0\n",
      "0          United States  0.038712\n",
      "1                Alabama  0.422025\n",
      "2                 Alaska -0.209817\n",
      "3                Arizona  0.339670\n",
      "4               Arkansas  0.490887\n",
      "5             California -0.307094\n",
      "6               Colorado  0.052741\n",
      "7            Connecticut -0.032516\n",
      "8               Delaware -0.119534\n",
      "9   District of Columbia -0.183589\n",
      "10               Florida  0.099198\n",
      "11               Georgia  0.307285\n",
      "12                Hawaii -0.754587\n",
      "13                 Idaho  0.394027\n",
      "14              Illinois -0.116628\n",
      "15               Indiana  0.195398\n",
      "16                  Iowa  0.241179\n",
      "17                Kansas  0.261329\n",
      "18              Kentucky  0.366356\n",
      "19             Louisiana  0.254367\n",
      "20                 Maine  0.332543\n",
      "21              Maryland -0.158822\n",
      "22         Massachusetts -0.414104\n",
      "23              Michigan -0.278914\n",
      "24             Minnesota  0.075330\n",
      "25           Mississippi  0.471149\n",
      "26              Missouri  0.323318\n",
      "27               Montana  0.398040\n",
      "28              Nebraska  0.481909\n",
      "29                Nevada -0.538787\n",
      "30         New Hampshire -0.262548\n",
      "31            New Jersey -0.391339\n",
      "32            New Mexico  0.465921\n",
      "33              New York -0.110576\n",
      "34        North Carolina  0.197410\n",
      "35          North Dakota  0.202927\n",
      "36                  Ohio  0.118846\n",
      "37              Oklahoma  0.230247\n",
      "38                Oregon  0.008234\n",
      "39          Pennsylvania  0.064634\n",
      "40          Rhode Island -0.169077\n",
      "41        South Carolina  0.242573\n",
      "42          South Dakota  0.308646\n",
      "43             Tennessee  0.305835\n",
      "44                 Texas  0.067668\n",
      "45                  Utah  0.148906\n",
      "46               Vermont  0.074493\n",
      "47              Virginia  0.046515\n",
      "48            Washington -0.225231\n",
      "49         West Virginia  0.327771\n",
      "50             Wisconsin  0.126045\n",
      "51               Wyoming  0.239522\n"
     ]
    }
   ],
   "source": [
    "# Use our regression model on each state\n",
    "states_list = []\n",
    "for i in range(0,52,1):\n",
    "    states_list.append(states_and_turnout.iloc[i,0])\n",
    "result_list = []\n",
    "for i in range(0,52,1):\n",
    "    result_list.append(2.76427 - 1.76427*.55 - 0.052095 * unemployment_income_2020.iloc[i,0] - 0.0000174 * unemployment_income_2020.iloc[i,1] - 0.0125)\n",
    "states_df = pd.DataFrame(states_list)\n",
    "result_df = pd.DataFrame(result_list)\n",
    "df_final = pd.concat([states_df, result_df], axis=1) #converts list into a data frame\n",
    "print(df_final)"
   ]
  },
  {
   "cell_type": "code",
   "execution_count": 0,
   "metadata": {
    "collapsed": false
   },
   "outputs": [],
   "source": []
  },
  {
   "cell_type": "code",
   "execution_count": 0,
   "metadata": {
    "collapsed": false
   },
   "outputs": [],
   "source": []
  },
  {
   "cell_type": "code",
   "execution_count": 0,
   "metadata": {
    "collapsed": false
   },
   "outputs": [],
   "source": []
  },
  {
   "cell_type": "code",
   "execution_count": 0,
   "metadata": {
    "collapsed": false
   },
   "outputs": [],
   "source": []
  },
  {
   "cell_type": "code",
   "execution_count": 10,
   "metadata": {
    "collapsed": false
   },
   "outputs": [],
   "source": []
  },
  {
   "cell_type": "code",
   "execution_count": 0,
   "metadata": {
    "collapsed": false
   },
   "outputs": [],
   "source": []
  },
  {
   "cell_type": "code",
   "execution_count": 0,
   "metadata": {
    "collapsed": false
   },
   "outputs": [],
   "source": []
  },
  {
   "cell_type": "code",
   "execution_count": 0,
   "metadata": {
    "collapsed": false
   },
   "outputs": [],
   "source": []
  },
  {
   "cell_type": "code",
   "execution_count": 0,
   "metadata": {
    "collapsed": false
   },
   "outputs": [],
   "source": []
  }
 ],
 "metadata": {
  "kernelspec": {
   "display_name": "Python 3 (system-wide)",
   "language": "python",
   "metadata": {
    "cocalc": {
     "description": "Python 3 programming language",
     "priority": 100,
     "url": "https://www.python.org/"
    }
   },
   "name": "python3"
  },
  "language_info": {
   "codemirror_mode": {
    "name": "ipython",
    "version": 3
   },
   "file_extension": ".py",
   "mimetype": "text/x-python",
   "name": "python",
   "nbconvert_exporter": "python",
   "pygments_lexer": "ipython3",
   "version": "3.6.9"
  }
 },
 "nbformat": 4,
 "nbformat_minor": 4
}